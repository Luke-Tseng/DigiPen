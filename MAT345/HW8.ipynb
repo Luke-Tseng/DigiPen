{
 "cells": [
  {
   "cell_type": "markdown",
   "metadata": {},
   "source": [
    "## Homework 8 Question 2"
   ]
  },
  {
   "cell_type": "code",
   "execution_count": 1,
   "metadata": {},
   "outputs": [],
   "source": [
    "import numpy as np\n",
    "\n",
    "data = np.array([\n",
    "    [1, 1, 0],\n",
    "    [1, 0, 1],\n",
    "    [2, 0, 0],\n",
    "    [1, 3, 1],\n",
    "    [3, 3, 2],\n",
    "    [3, 0, 0],\n",
    "    [0, 2, 1],\n",
    "    [2, 3, 0],\n",
    "    [0, 0, 0],\n",
    "    [2, 1, 3]\n",
    "])"
   ]
  },
  {
   "cell_type": "markdown",
   "metadata": {},
   "source": [
    "#### K-means Algorithm"
   ]
  },
  {
   "cell_type": "code",
   "execution_count": 2,
   "metadata": {},
   "outputs": [],
   "source": [
    "# euclidean distance formula\n",
    "def dist(p1, p2):\n",
    "    return np.sqrt(np.sum((p1 - p2) ** 2))\n",
    "\n",
    "# assigns points to closest centroid\n",
    "def assign_clusters(data, centroids):\n",
    "    clusters = [[] for _ in centroids]\n",
    "    \n",
    "    for p in data:\n",
    "        # get distance from point to all centroids\n",
    "        distances = [dist(p, centroid) for centroid in centroids]\n",
    "        \n",
    "        # get index of closest centroid\n",
    "        closest = np.argmin(distances)\n",
    "        clusters[closest].append(p)\n",
    "    return clusters\n",
    "        \n",
    "# recompute centroids\n",
    "def recompute_means(clusters):\n",
    "    new_centroids = []\n",
    "    for cluster in clusters:\n",
    "        new_centroids.append(np.mean(cluster, axis=0))\n",
    "\n",
    "    return new_centroids\n",
    "        \n",
    "# k means algorithm\n",
    "def k_means(data, initial_centroids):\n",
    "    centroids = np.array(initial_centroids)\n",
    "    \n",
    "    prev_clusters = None\n",
    "    while True:\n",
    "        # assign clusters\n",
    "        clusters = assign_clusters(data, centroids)\n",
    "        \n",
    "        # check if there are changes in cluster assignments\n",
    "        if prev_clusters is not None and all(np.array_equal(c1, c2) for c1, c2 in zip(clusters, prev_clusters)):\n",
    "            break\n",
    "        \n",
    "        # recompute means\n",
    "        centroids = recompute_means(clusters)\n",
    "        \n",
    "        # update prev_clusters\n",
    "        prev_clusters = clusters\n",
    "            \n",
    "    return centroids, clusters\n"
   ]
  },
  {
   "cell_type": "code",
   "execution_count": 3,
   "metadata": {},
   "outputs": [
    {
     "name": "stdout",
     "output_type": "stream",
     "text": [
      "Centroids:\n",
      "[1.28571429 0.57142857 0.71428571]\n",
      "[2. 3. 1.]\n",
      "Cluster:\n",
      "[1 1 0]\n",
      "[1 0 1]\n",
      "[2 0 0]\n",
      "[3 0 0]\n",
      "[0 2 1]\n",
      "[0 0 0]\n",
      "[2 1 3]\n",
      "Cluster:\n",
      "[1 3 1]\n",
      "[3 3 2]\n",
      "[2 3 0]\n"
     ]
    }
   ],
   "source": [
    "initial_centroid_a = np.array([\n",
    "    [1, 1, 0],\n",
    "    [2, 3, 0]\n",
    "])\n",
    "\n",
    "centroids, clusters = k_means(data, initial_centroid_a)\n",
    "\n",
    "print(\"Centroids:\")\n",
    "for centroid in centroids:\n",
    "    print(centroid)\n",
    "\n",
    "for cluster in clusters:\n",
    "    print(\"Cluster:\")\n",
    "    for p in cluster:\n",
    "        print(p)"
   ]
  },
  {
   "cell_type": "code",
   "execution_count": 4,
   "metadata": {},
   "outputs": [
    {
     "name": "stdout",
     "output_type": "stream",
     "text": [
      "Centroids:\n",
      "[0.5  0.75 0.5 ]\n",
      "[2.  2.5 1.5]\n",
      "[2.5 0.  0. ]\n",
      "Cluster:\n",
      "[1 1 0]\n",
      "[1 0 1]\n",
      "[0 2 1]\n",
      "[0 0 0]\n",
      "Cluster:\n",
      "[1 3 1]\n",
      "[3 3 2]\n",
      "[2 3 0]\n",
      "[2 1 3]\n",
      "Cluster:\n",
      "[2 0 0]\n",
      "[3 0 0]\n"
     ]
    }
   ],
   "source": [
    "initial_centroid_b = np.array([\n",
    "    [0, 0, 0],\n",
    "    [3, 3, 2],\n",
    "    [2, 0, 0]\n",
    "])\n",
    "centroids, clusters = k_means(data, initial_centroid_b)\n",
    "\n",
    "print(\"Centroids:\")\n",
    "for centroid in centroids:\n",
    "    print(centroid)\n",
    "\n",
    "for cluster in clusters:\n",
    "    print(\"Cluster:\")\n",
    "    for p in cluster:\n",
    "        print(p)"
   ]
  }
 ],
 "metadata": {
  "kernelspec": {
   "display_name": "base",
   "language": "python",
   "name": "python3"
  },
  "language_info": {
   "codemirror_mode": {
    "name": "ipython",
    "version": 3
   },
   "file_extension": ".py",
   "mimetype": "text/x-python",
   "name": "python",
   "nbconvert_exporter": "python",
   "pygments_lexer": "ipython3",
   "version": "3.12.4"
  }
 },
 "nbformat": 4,
 "nbformat_minor": 2
}
