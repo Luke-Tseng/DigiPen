{
 "cells": [
  {
   "cell_type": "markdown",
   "metadata": {},
   "source": [
    "## Problem 1"
   ]
  },
  {
   "cell_type": "markdown",
   "metadata": {},
   "source": [
    "#### Linear Regression algorithm"
   ]
  },
  {
   "cell_type": "code",
   "execution_count": 1,
   "metadata": {},
   "outputs": [],
   "source": [
    "import numpy as np\n",
    "import pandas as pd\n",
    "\n",
    "def linear_regression(x, y):\n",
    "    X = np.column_stack((np.ones(len(x)), x))\n",
    "\n",
    "    # Calculate A\n",
    "    A = np.dot(np.transpose(X), X)\n",
    "\n",
    "    # Calculate b\n",
    "    b = np.dot(np.transpose(X), y)\n",
    "\n",
    "    # Calculate w\n",
    "    w = np.dot(np.linalg.inv(A), b)\n",
    "    return w"
   ]
  },
  {
   "cell_type": "markdown",
   "metadata": {},
   "source": [
    "#### Dataset 1"
   ]
  },
  {
   "cell_type": "code",
   "execution_count": 2,
   "metadata": {},
   "outputs": [
    {
     "name": "stdout",
     "output_type": "stream",
     "text": [
      "[98.71471814  0.97087035]\n"
     ]
    }
   ],
   "source": [
    "data = pd.read_csv('HW6data.csv')\n",
    "x = data['X']\n",
    "y = data['Y']\n",
    "\n",
    "print(linear_regression(x, y))"
   ]
  },
  {
   "cell_type": "markdown",
   "metadata": {},
   "source": [
    "#### Dataset 2"
   ]
  },
  {
   "cell_type": "code",
   "execution_count": 3,
   "metadata": {},
   "outputs": [
    {
     "name": "stdout",
     "output_type": "stream",
     "text": [
      "[-3.79138915e+00 -3.85291886e+00  2.48826650e+00  3.49878682e-03\n",
      " -1.95366854e-03]\n"
     ]
    }
   ],
   "source": [
    "data = pd.read_csv('HW6data2.csv')\n",
    "x = data.iloc[:,:-1]\n",
    "y = data.iloc[:,-1]\n",
    "\n",
    "print(linear_regression(x, y))"
   ]
  },
  {
   "cell_type": "markdown",
   "metadata": {},
   "source": [
    "## Problem 2"
   ]
  },
  {
   "cell_type": "markdown",
   "metadata": {},
   "source": [
    "#### Gradient Descent Algorithm"
   ]
  },
  {
   "cell_type": "code",
   "execution_count": 4,
   "metadata": {},
   "outputs": [],
   "source": [
    "# Parameters:\n",
    "# f: derivative of function\n",
    "# x0 (numpy.ndarray): starting point\n",
    "# n (float): learning rate \n",
    "# max_iter (int): max iterations\n",
    "# delta (float): threshold for stopping condition\n",
    "\n",
    "def gradient_descent(f, x0 = np.array([0]), n=0.1, max_iter=100000, delta=1e-3):\n",
    "    x = x0.copy()\n",
    "    \n",
    "    for i in range(max_iter):\n",
    "        # Run x through function\n",
    "        grad = f(x)\n",
    "        \n",
    "        # Check if gradient is very small\n",
    "        if np.linalg.norm(grad) < delta:\n",
    "            break\n",
    "        \n",
    "        # Check if change in function change is very small\n",
    "        change = np.linalg.norm(f(x - n * grad) - grad)\n",
    "        if np.all(change < delta):\n",
    "            break\n",
    "        x = x - n * grad\n",
    "        \n",
    "    return x"
   ]
  },
  {
   "cell_type": "markdown",
   "metadata": {},
   "source": [
    "#### Part A"
   ]
  },
  {
   "cell_type": "code",
   "execution_count": 5,
   "metadata": {},
   "outputs": [],
   "source": [
    "# Derivative of function in part a\n",
    "def a(x):\n",
    "    return (x[0] - 2) * (x[0] - 5) + (x[0] - 1) * (x[0] - 5) + (x[0] - 1) * (x[0] - 2)"
   ]
  },
  {
   "cell_type": "markdown",
   "metadata": {},
   "source": [
    "##### (i) η = 0.1, x0 = 3"
   ]
  },
  {
   "cell_type": "code",
   "execution_count": 6,
   "metadata": {},
   "outputs": [
    {
     "name": "stdout",
     "output_type": "stream",
     "text": [
      "[3.8683935]\n"
     ]
    }
   ],
   "source": [
    "x0 = np.array([3])\n",
    "print(gradient_descent(a, x0, 0.1))"
   ]
  },
  {
   "cell_type": "markdown",
   "metadata": {},
   "source": [
    "##### (ii) η = 0.05, x0 = 6"
   ]
  },
  {
   "cell_type": "code",
   "execution_count": 7,
   "metadata": {},
   "outputs": [
    {
     "name": "stdout",
     "output_type": "stream",
     "text": [
      "[3.86887478]\n"
     ]
    }
   ],
   "source": [
    "x0 = np.array([6])\n",
    "print(gradient_descent(a, x0, 0.05))"
   ]
  },
  {
   "cell_type": "markdown",
   "metadata": {},
   "source": [
    "##### (iii) η = 0.01, x0 = 1"
   ]
  },
  {
   "cell_type": "code",
   "execution_count": 8,
   "metadata": {},
   "outputs": [
    {
     "name": "stderr",
     "output_type": "stream",
     "text": [
      "C:\\Users\\Luke\\AppData\\Local\\Temp\\ipykernel_50436\\4167688512.py:3: RuntimeWarning: overflow encountered in scalar multiply\n",
      "  return (x[0] - 2) * (x[0] - 5) + (x[0] - 1) * (x[0] - 5) + (x[0] - 1) * (x[0] - 2)\n",
      "C:\\Users\\Luke\\AppData\\Local\\Temp\\ipykernel_50436\\951611773.py:20: RuntimeWarning: invalid value encountered in scalar subtract\n",
      "  change = np.linalg.norm(f(x - n * grad) - grad)\n"
     ]
    },
    {
     "name": "stdout",
     "output_type": "stream",
     "text": [
      "[-inf]\n"
     ]
    }
   ],
   "source": [
    "x0 = np.array([1])\n",
    "print(gradient_descent(a, x0, 0.01))"
   ]
  },
  {
   "cell_type": "markdown",
   "metadata": {},
   "source": [
    "#### Part B"
   ]
  },
  {
   "cell_type": "code",
   "execution_count": 9,
   "metadata": {},
   "outputs": [],
   "source": [
    "# Derivative of function in part b\n",
    "def b(x):\n",
    "    return np.array([(2 * x[0] - 2 * x[1] ** 2), (4 * x[1] ** 3 - 4 * x[0] * x[1])])"
   ]
  },
  {
   "cell_type": "markdown",
   "metadata": {},
   "source": [
    "#### (i) η = 0.1, x0 = 1, y0 = 2"
   ]
  },
  {
   "cell_type": "code",
   "execution_count": 10,
   "metadata": {},
   "outputs": [
    {
     "name": "stdout",
     "output_type": "stream",
     "text": [
      "[ 1.03905906 -1.01937892]\n"
     ]
    }
   ],
   "source": [
    "x0 = np.array([1, 2])\n",
    "print(gradient_descent(b, x0, 0.1))"
   ]
  },
  {
   "cell_type": "markdown",
   "metadata": {},
   "source": [
    "#### (ii) η = 0.1, x0 = 4, y0 = −2"
   ]
  },
  {
   "cell_type": "code",
   "execution_count": 11,
   "metadata": {},
   "outputs": [
    {
     "name": "stdout",
     "output_type": "stream",
     "text": [
      "[ 4 -2]\n"
     ]
    }
   ],
   "source": [
    "x0 = np.array([4, -2])\n",
    "print(gradient_descent(b, x0, 0.1))"
   ]
  },
  {
   "cell_type": "markdown",
   "metadata": {},
   "source": [
    "#### (iii) η = 0.05, x0 = 0, y0 = 3"
   ]
  },
  {
   "cell_type": "code",
   "execution_count": 12,
   "metadata": {},
   "outputs": [
    {
     "name": "stdout",
     "output_type": "stream",
     "text": [
      "[ 0.27776391 -0.52567075]\n"
     ]
    }
   ],
   "source": [
    "x0 = np.array([0, 3])\n",
    "print(gradient_descent(b, x0, 0.05))"
   ]
  },
  {
   "cell_type": "markdown",
   "metadata": {},
   "source": [
    "## Problem 3"
   ]
  },
  {
   "cell_type": "code",
   "execution_count": 13,
   "metadata": {},
   "outputs": [
    {
     "name": "stdout",
     "output_type": "stream",
     "text": [
      "w: [436.51842448 -27.88557582]\n"
     ]
    }
   ],
   "source": [
    "x = np.array([6, 6, 6, 2, 2, 5, 4, 5, 1, 4])\n",
    "y = np.array([270, 260, 275, 405, 364, 295, 335, 308, 405, 305])\n",
    "X = np.column_stack((np.ones(len(x)), x))\n",
    "\n",
    "# Gradient of error function\n",
    "def error_function(w, X, y):\n",
    "    N = len(X)\n",
    "    return (2 / N) * np.dot(np.transpose(X), np.dot(X, w) - y)\n",
    "\n",
    "# Gradient descent algorithm\n",
    "w = np.zeros(X.shape[1])\n",
    "delta = 1e-3\n",
    "n = 0.04\n",
    "\n",
    "while(True):\n",
    "    grad = error_function(w, X, y)\n",
    "    \n",
    "    w_new = w - n * grad\n",
    "    \n",
    "    # Check if change in w is less than delta\n",
    "    if np.all(np.abs(w_new - w) < delta):\n",
    "        break\n",
    "    \n",
    "    w = w_new\n",
    "    \n",
    "print('w:', w)"
   ]
  }
 ],
 "metadata": {
  "kernelspec": {
   "display_name": "base",
   "language": "python",
   "name": "python3"
  },
  "language_info": {
   "codemirror_mode": {
    "name": "ipython",
    "version": 3
   },
   "file_extension": ".py",
   "mimetype": "text/x-python",
   "name": "python",
   "nbconvert_exporter": "python",
   "pygments_lexer": "ipython3",
   "version": "3.12.4"
  }
 },
 "nbformat": 4,
 "nbformat_minor": 2
}
