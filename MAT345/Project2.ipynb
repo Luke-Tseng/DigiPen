{
 "cells": [
  {
   "cell_type": "markdown",
   "metadata": {},
   "source": [
    "# Project 2"
   ]
  },
  {
   "cell_type": "markdown",
   "metadata": {},
   "source": [
    "#### Read data for easy_ham, hard_ham and spam of subject line"
   ]
  },
  {
   "cell_type": "code",
   "execution_count": 1,
   "metadata": {},
   "outputs": [],
   "source": [
    "import os\n",
    "import pandas as pd\n",
    "\n",
    "# Read emails from each folder\n",
    "def read_subjects_from_folder(folder_path):\n",
    "    subjects = []\n",
    "    for filename in os.listdir(folder_path):\n",
    "        with open(os.path.join(folder_path, filename), 'r', encoding='latin1') as file:\n",
    "            for line in file:\n",
    "                if line.startswith(\"Subject:\"):\n",
    "                    subjects.append(line.strip())\n",
    "                    break\n",
    "    return subjects\n",
    "\n",
    "easy_ham_emails = read_subjects_from_folder('./easy_ham')\n",
    "hard_ham_emails = read_subjects_from_folder('./hard_ham')\n",
    "spam_emails = read_subjects_from_folder('./spam')"
   ]
  },
  {
   "cell_type": "markdown",
   "metadata": {},
   "source": [
    "#### Split data into training and testing sets"
   ]
  },
  {
   "cell_type": "code",
   "execution_count": 2,
   "metadata": {},
   "outputs": [],
   "source": [
    "def split_data(emails):\n",
    "    train_emails = []\n",
    "    test_emails = []\n",
    "    for i, email in enumerate(emails):\n",
    "        if (i + 1) % 4 == 0:\n",
    "            test_emails.append(email)\n",
    "        else:\n",
    "            train_emails.append(email)\n",
    "    return train_emails, test_emails\n",
    "\n",
    "easy_ham_train, easy_ham_test = split_data(easy_ham_emails)\n",
    "hard_ham_train, hard_ham_test = split_data(hard_ham_emails)\n",
    "spam_train, spam_test = split_data(spam_emails)\n",
    "\n",
    "# Create dataframes for training and testing sets\n",
    "train_df = pd.DataFrame({\n",
    "    'Email': easy_ham_train + hard_ham_train + spam_train,\n",
    "    'Label': ['ham'] * len(easy_ham_train + hard_ham_train) + ['spam'] * len(spam_train)\n",
    "})\n",
    "\n",
    "test_df = pd.DataFrame({\n",
    "    'Email': easy_ham_test + hard_ham_test + spam_test,\n",
    "    'Label': ['ham'] * len(easy_ham_test + hard_ham_test) + ['spam'] * len(spam_test)\n",
    "})\n"
   ]
  },
  {
   "cell_type": "markdown",
   "metadata": {},
   "source": [
    "#### Build a spam filter"
   ]
  },
  {
   "cell_type": "code",
   "execution_count": 3,
   "metadata": {},
   "outputs": [],
   "source": [
    "import re\n",
    "\n",
    "excluded_words = {'the', 'subject'}\n",
    "\n",
    "# Extract words from the training data and count their occurrences\n",
    "training_spam = {}\n",
    "training_ham = {}\n",
    "training_total = {}\n",
    "\n",
    "total_spam = 0\n",
    "total_ham = 0\n",
    "total = 0\n",
    "\n",
    "# Add the words found into the ham and spam data\n",
    "for index, email in train_df.iterrows():\n",
    "    words = re.findall(r'\\b[a-zA-Z]+\\b', email['Email'].lower())\n",
    "    for word in words:\n",
    "        if word in excluded_words:\n",
    "            continue\n",
    "        if email['Label'] == 'ham':\n",
    "            if word in training_ham:\n",
    "                training_ham[word] += 1\n",
    "            else:\n",
    "                training_ham[word] = 1    \n",
    "            total_ham += 1\n",
    "        else:\n",
    "            if word in training_spam:\n",
    "                training_spam[word] += 1\n",
    "            else:\n",
    "                training_spam[word] = 1\n",
    "            total_spam += 1\n",
    "        total += 1\n",
    "\n",
    "\n",
    "# Sort the dictionaries\n",
    "training_spam = dict(sorted(training_spam.items(), key=lambda item: item[1], reverse=True))\n",
    "training_ham = dict(sorted(training_ham.items(), key=lambda item: item[1], reverse=True))"
   ]
  },
  {
   "cell_type": "markdown",
   "metadata": {},
   "source": [
    "#### 5 words with highest spam and ham proabilities"
   ]
  },
  {
   "cell_type": "code",
   "execution_count": 4,
   "metadata": {},
   "outputs": [
    {
     "name": "stdout",
     "output_type": "stream",
     "text": [
      "5 Most Hammiest Words: [('re', 0.09011970999831394), ('for', 0.01930534479851627), ('to', 0.01424717585567358), ('of', 0.012898330804248861), ('a', 0.012223908278536503)]\n",
      "5 Most Spammiest Words: [('your', 0.025185185185185185), ('you', 0.020246913580246915), ('for', 0.019753086419753086), ('ilug', 0.018765432098765432), ('a', 0.017777777777777778)]\n"
     ]
    }
   ],
   "source": [
    "spam_probabilities = {}\n",
    "ham_probabilities = {}\n",
    "for word in training_spam:\n",
    "    spam_probabilities[word] = (training_spam[word] + 1) / (total_spam + 2)\n",
    "for word in training_ham:\n",
    "    ham_probabilities[word] = (training_ham[word] + 1) / (total_ham + 2)\n",
    "    \n",
    "top_5_ham = sorted(ham_probabilities.items(), key=lambda item: item[1], reverse=True)[:5]\n",
    "top_5_spam = sorted(spam_probabilities.items(), key=lambda item: item[1], reverse=True)[:5]\n",
    "\n",
    "print(\"5 Most Hammiest Words:\", top_5_ham)\n",
    "print(\"5 Most Spammiest Words:\", top_5_spam)"
   ]
  },
  {
   "cell_type": "markdown",
   "metadata": {},
   "source": [
    "#### Setup spam calculation function"
   ]
  },
  {
   "cell_type": "code",
   "execution_count": 5,
   "metadata": {},
   "outputs": [],
   "source": [
    "def compute_spam(words, spam, ham):\n",
    "    spam_probabilities = 0\n",
    "    ham_probabilities = 0\n",
    "    \n",
    "    for word in words:\n",
    "        # Skip excluded words\n",
    "        if word in excluded_words:\n",
    "            continue\n",
    "        # Add all probabilities of each word in the email subject\n",
    "        if word in training_spam:\n",
    "            # Compute probabilities with smoothing\n",
    "            spam_probabilities += (training_spam[word] + 1) / (total_spam + 2)\n",
    "        if word in training_ham:\n",
    "            ham_probabilities += (training_ham[word] + 1) / (total_ham + 2)\n",
    "    \n",
    "    if (spam_probabilities * spam + ham_probabilities * ham) > 0:\n",
    "        return (spam_probabilities * spam) / (spam_probabilities * spam + ham_probabilities * ham)\n",
    "    \n",
    "    return 1"
   ]
  },
  {
   "cell_type": "code",
   "execution_count": 6,
   "metadata": {},
   "outputs": [
    {
     "name": "stdout",
     "output_type": "stream",
     "text": [
      "Accuracy: 0.8822815533980582\n",
      "Precision: 0.7413793103448276\n",
      "Recall: 0.344\n"
     ]
    }
   ],
   "source": [
    "correct_predicted = 0\n",
    "predicted = 0\n",
    "correct_predicted_spam = 0\n",
    "predicted_spam = 0\n",
    "spam_count = 0\n",
    "\n",
    "for index, email in test_df.iterrows():\n",
    "    words = re.findall(r'\\b[a-zA-Z]+\\b', email['Email'].lower())\n",
    "    if total_ham > 0 and total_spam > 0 and total > 0:\n",
    "        probability_of_spam = compute_spam(words, total_spam / total, total_ham / total)\n",
    "\n",
    "    if probability_of_spam > 0.5:\n",
    "        predicted_spam += 1\n",
    "        if email['Label'] == 'spam':\n",
    "            correct_predicted += 1\n",
    "            correct_predicted_spam += 1\n",
    "    else:\n",
    "        if email['Label'] == 'ham':\n",
    "            correct_predicted += 1    \n",
    "    if email['Label'] == 'spam':\n",
    "        spam_count += 1\n",
    "\n",
    "    # Add to filter\n",
    "    for word in words:\n",
    "        if word in excluded_words:\n",
    "            continue\n",
    "        if email['Label'] == 'ham':\n",
    "            if word in training_ham:\n",
    "                training_ham[word] += 1\n",
    "            else:\n",
    "                training_ham[word] = 1    \n",
    "            total_ham += 1\n",
    "        else:\n",
    "            if word in training_spam:\n",
    "                training_spam[word] += 1\n",
    "            else:\n",
    "                training_spam[word] = 1\n",
    "            total_spam += 1\n",
    "        total += 1\n",
    "    predicted += 1\n",
    "    \n",
    "print(\"Accuracy:\", correct_predicted / predicted)\n",
    "print(\"Precision:\", correct_predicted_spam / predicted_spam)\n",
    "print(\"Recall:\", correct_predicted_spam / spam_count)"
   ]
  }
 ],
 "metadata": {
  "kernelspec": {
   "display_name": "base",
   "language": "python",
   "name": "python3"
  },
  "language_info": {
   "codemirror_mode": {
    "name": "ipython",
    "version": 3
   },
   "file_extension": ".py",
   "mimetype": "text/x-python",
   "name": "python",
   "nbconvert_exporter": "python",
   "pygments_lexer": "ipython3",
   "version": "3.12.4"
  }
 },
 "nbformat": 4,
 "nbformat_minor": 2
}
