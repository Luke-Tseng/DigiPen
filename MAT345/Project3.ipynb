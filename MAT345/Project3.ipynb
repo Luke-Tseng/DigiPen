{
 "cells": [
  {
   "cell_type": "markdown",
   "metadata": {},
   "source": [
    "## Project 3\n"
   ]
  },
  {
   "cell_type": "markdown",
   "metadata": {},
   "source": [
    "#### Linear Regression Algorithm"
   ]
  },
  {
   "cell_type": "code",
   "execution_count": 1,
   "metadata": {},
   "outputs": [],
   "source": [
    "import numpy as np\n",
    "import pandas as pd\n",
    "\n",
    "def linear_regression(x, y):\n",
    "    X = np.column_stack((np.ones(len(x)), x))\n",
    "\n",
    "    # Calculate A\n",
    "    A = np.dot(np.transpose(X), X)\n",
    "\n",
    "    # Calculate b\n",
    "    b = np.dot(np.transpose(X), y)\n",
    "\n",
    "    # Calculate w\n",
    "    w = np.dot(np.linalg.inv(A), b)\n",
    "    \n",
    "    return w"
   ]
  },
  {
   "cell_type": "markdown",
   "metadata": {},
   "source": [
    "#### Using Linear Regression Algorithm on Training data"
   ]
  },
  {
   "cell_type": "code",
   "execution_count": 2,
   "metadata": {},
   "outputs": [
    {
     "name": "stdout",
     "output_type": "stream",
     "text": [
      "w: [5.8087 0.3945 0.1141 0.4222]\n"
     ]
    }
   ],
   "source": [
    "training_data = pd.read_csv('Project3_Training.csv')\n",
    "x = training_data.iloc[:,:-1]\n",
    "y = training_data.iloc[:,-1]\n",
    "w = linear_regression(x, y)\n",
    "np.set_printoptions(precision=4, suppress=True)\n",
    "\n",
    "print(\"w:\", w)"
   ]
  },
  {
   "cell_type": "markdown",
   "metadata": {},
   "source": [
    "#### Use weights to estimate course cores in predict data"
   ]
  },
  {
   "cell_type": "code",
   "execution_count": 3,
   "metadata": {},
   "outputs": [
    {
     "name": "stdout",
     "output_type": "stream",
     "text": [
      "[[ 49.      79.      71.      64.1236]\n",
      " [ 56.      21.      46.      49.7134]\n",
      " [ 58.     100.      79.      73.4469]\n",
      " [ 61.      82.      58.      63.7112]\n",
      " [ 62.      90.      62.      66.707 ]\n",
      " [ 66.      99.      75.      74.7998]\n",
      " [ 71.      73.      65.      69.584 ]\n",
      " [ 73.      87.      80.      78.3026]\n",
      " [ 73.      97.      73.      76.4884]\n",
      " [ 74.      73.      77.      75.8333]\n",
      " [ 74.      85.      66.      72.5586]\n",
      " [ 74.     100.      87.      83.1354]\n",
      " [ 78.      79.      56.      69.2303]\n",
      " [ 80.      72.      71.      75.553 ]\n",
      " [ 80.      82.      90.      84.7149]\n",
      " [ 81.      56.      60.      69.4782]\n",
      " [ 81.      80.      78.      79.8153]\n",
      " [ 82.     100.      79.      82.9137]\n",
      " [ 83.      80.      56.      71.3166]\n",
      " [ 83.      96.      64.      76.5194]\n",
      " [ 84.      98.      85.      86.0074]\n",
      " [ 84.     100.      77.      82.8583]\n",
      " [ 85.      93.      75.      81.6098]\n",
      " [ 85.      99.      69.      79.7614]\n",
      " [ 86.      95.      77.      83.0767]\n",
      " [ 86.     100.      85.      87.0245]\n",
      " [ 87.      97.      75.      82.8551]\n",
      " [ 87.      98.      89.      88.8794]\n",
      " [ 87.      99.      85.      87.3049]\n",
      " [ 87.      99.      81.      85.6162]\n",
      " [ 88.      99.      73.      82.6334]\n",
      " [ 89.      82.      37.      65.8904]\n",
      " [ 89.      82.      81.      84.4656]\n",
      " [ 89.      99.      79.      85.5608]\n",
      " [ 90.     100.      90.      90.7131]\n",
      " [ 91.      67.      84.      84.8096]\n",
      " [ 91.     100.      79.      86.4638]\n",
      " [ 92.      99.      85.      89.2771]\n",
      " [ 93.      97.      71.      83.5331]\n",
      " [ 94.      99.      89.      91.7547]\n",
      " [ 95.      98.      85.      90.3464]\n",
      " [ 95.      99.      69.      83.7059]\n",
      " [ 97.      80.      79.      86.5487]\n",
      " [ 97.      99.      92.      94.2045]\n",
      " [ 97.     100.      87.      92.2078]\n",
      " [ 98.     100.      81.      90.0693]\n",
      " [ 99.     100.     100.      98.4848]\n",
      " [100.      76.      90.      91.9194]\n",
      " [100.      94.      94.      95.6617]\n",
      " [100.     100.      94.      96.3463]]\n"
     ]
    }
   ],
   "source": [
    "predict_data = pd.read_csv('Project3_Predict.csv')\n",
    "predictions = np.column_stack((predict_data, np.zeros(len(predict_data))))\n",
    "\n",
    "for data in predictions:\n",
    "    grade = w[0] + data[0] * w[1] + data[1] * w[2] + data[2] * w[3]\n",
    "    data[3] = grade\n",
    "\n",
    "print(predictions)"
   ]
  },
  {
   "cell_type": "markdown",
   "metadata": {},
   "source": [
    "#### Modify output of Training set to denote Pass or Fail and normalize data"
   ]
  },
  {
   "cell_type": "code",
   "execution_count": 4,
   "metadata": {},
   "outputs": [],
   "source": [
    "x = training_data[['Midterm', 'Homework', 'Quiz']].values\n",
    "\n",
    "# Modify course grade to Pass or Fail\n",
    "y = (training_data['Course Grade'] >= 70).astype(int).values\n",
    "y[y == 0] = -1\n",
    "\n",
    "# Normalize data\n",
    "training_mean = np.mean(x, axis=0)\n",
    "training_std = np.std(x, axis=0)\n",
    "x_normalized = (x - training_mean) / training_std\n",
    "\n",
    "x_normalized = np.column_stack((np.ones(x.shape[0]), x_normalized))"
   ]
  },
  {
   "cell_type": "markdown",
   "metadata": {},
   "source": [
    "#### Logistic Regression Algorithm (with Gradient Descent)"
   ]
  },
  {
   "cell_type": "code",
   "execution_count": 5,
   "metadata": {},
   "outputs": [],
   "source": [
    "def logistic_regression(x, y, w):\n",
    "    n = len(y)\n",
    "    sum = 0\n",
    "    for i in range(n):\n",
    "        yx = y[i] * x[i];\n",
    "        ywx = y[i] * np.transpose(w) * x[i]\n",
    "        sum += yx / (1 + np.exp(ywx))\n",
    "    gradient = (-1 / n) * sum\n",
    "    return gradient\n",
    "\n",
    "def gradient_descent(x, y, w, n=0.01, max_iter=20000):\n",
    "    for i in range(max_iter):\n",
    "        # Run w through function\n",
    "        grad = logistic_regression(x, y, w)\n",
    "        \n",
    "        w = w - n * grad\n",
    "        \n",
    "    return w"
   ]
  },
  {
   "cell_type": "markdown",
   "metadata": {},
   "source": [
    "#### Run Algorithm with initial weights of 0"
   ]
  },
  {
   "cell_type": "code",
   "execution_count": 6,
   "metadata": {},
   "outputs": [
    {
     "name": "stdout",
     "output_type": "stream",
     "text": [
      "[1.7151 0.8762 0.7446 1.3895]\n"
     ]
    }
   ],
   "source": [
    "w = np.zeros(x_normalized.shape[1])\n",
    "\n",
    "final_w = gradient_descent(x_normalized, y, w)\n",
    "\n",
    "print(final_w)"
   ]
  },
  {
   "cell_type": "markdown",
   "metadata": {},
   "source": [
    "#### Use final weights to predict probablity of passing for the predict data"
   ]
  },
  {
   "cell_type": "code",
   "execution_count": 7,
   "metadata": {},
   "outputs": [
    {
     "name": "stdout",
     "output_type": "stream",
     "text": [
      "[[ 49.      79.      71.       0.0889]\n",
      " [ 56.      21.      46.       0.    ]\n",
      " [ 58.     100.      79.       0.7801]\n",
      " [ 61.      82.      58.       0.0631]\n",
      " [ 62.      90.      62.       0.2083]\n",
      " [ 66.      99.      75.       0.8312]\n",
      " [ 71.      73.      65.       0.306 ]\n",
      " [ 73.      87.      80.       0.9303]\n",
      " [ 73.      97.      73.       0.8878]\n",
      " [ 74.      73.      77.       0.7817]\n",
      " [ 74.      85.      66.       0.5915]\n",
      " [ 74.     100.      87.       0.9959]\n",
      " [ 78.      79.      56.       0.2789]\n",
      " [ 80.      72.      71.       0.7395]\n",
      " [ 80.      82.      90.       0.9965]\n",
      " [ 81.      56.      60.       0.1998]\n",
      " [ 81.      80.      78.       0.948 ]\n",
      " [ 82.     100.      79.       0.9939]\n",
      " [ 83.      80.      56.       0.4253]\n",
      " [ 83.      96.      64.       0.8645]\n",
      " [ 84.      98.      85.       0.9991]\n",
      " [ 84.     100.      77.       0.9933]\n",
      " [ 85.      93.      75.       0.9829]\n",
      " [ 85.      99.      69.       0.964 ]\n",
      " [ 86.      95.      77.       0.9926]\n",
      " [ 86.     100.      85.       0.9996]\n",
      " [ 87.      97.      75.       0.9919]\n",
      " [ 87.      98.      89.       0.9999]\n",
      " [ 87.      99.      85.       0.9996]\n",
      " [ 87.      99.      81.       0.9987]\n",
      " [ 88.      99.      73.       0.9912]\n",
      " [ 89.      82.      37.       0.0847]\n",
      " [ 89.      82.      81.       0.9945]\n",
      " [ 89.      99.      79.       0.9986]\n",
      " [ 90.     100.      90.       1.    ]\n",
      " [ 91.      67.      84.       0.9921]\n",
      " [ 91.     100.      79.       0.9992]\n",
      " [ 92.      99.      85.       0.9999]\n",
      " [ 93.      97.      71.       0.9935]\n",
      " [ 94.      99.      89.       1.    ]\n",
      " [ 95.      98.      85.       1.    ]\n",
      " [ 95.      99.      69.       0.9942]\n",
      " [ 97.      80.      79.       0.998 ]\n",
      " [ 97.      99.      92.       1.    ]\n",
      " [ 97.     100.      87.       1.    ]\n",
      " [ 98.     100.      81.       0.9999]\n",
      " [ 99.     100.     100.       1.    ]\n",
      " [100.      76.      90.       1.    ]\n",
      " [100.      94.      94.       1.    ]\n",
      " [100.     100.      94.       1.    ]]\n"
     ]
    }
   ],
   "source": [
    "from scipy import stats\n",
    "\n",
    "x_predict = predict_data.values\n",
    "x_predict_normalized = (x_predict - training_mean) / training_std\n",
    "n = len(predict_data)\n",
    "\n",
    "# calculate predictions\n",
    "prob_passing = np.zeros(n)\n",
    "for i in range(n):\n",
    "    p = x_predict_normalized[i]\n",
    "    prob_passing[i] = final_w[0] + final_w[1] * p[0] + final_w[2] * p[1] + final_w[3] * p[2]\n",
    "\n",
    "# convert z-score to probablility\n",
    "predictions = stats.norm.cdf(prob_passing)\n",
    "\n",
    "result = np.column_stack((predict_data, predictions))\n",
    "print(result)"
   ]
  },
  {
   "cell_type": "code",
   "execution_count": null,
   "metadata": {},
   "outputs": [],
   "source": [
    "[[ 49.      79.      71.      64.1236]\n",
    " [ 56.      21.      46.      49.7134]\n",
    " [ 58.     100.      79.      73.4469]\n",
    " [ 61.      82.      58.      63.7112]\n",
    " [ 62.      90.      62.      66.707 ]\n",
    " [ 66.      99.      75.      74.7998]\n",
    " [ 71.      73.      65.      69.584 ]\n",
    " [ 73.      87.      80.      78.3026]\n",
    " [ 73.      97.      73.      76.4884]\n",
    " [ 74.      73.      77.      75.8333]\n",
    " [ 74.      85.      66.      72.5586]\n",
    " [ 74.     100.      87.      83.1354]\n",
    " [ 78.      79.      56.      69.2303]\n",
    " [ 80.      72.      71.      75.553 ]\n",
    " [ 80.      82.      90.      84.7149]\n",
    " [ 81.      56.      60.      69.4782]\n",
    " [ 81.      80.      78.      79.8153]\n",
    " [ 82.     100.      79.      82.9137]\n",
    " [ 83.      80.      56.      71.3166]\n",
    " [ 83.      96.      64.      76.5194]\n",
    " [ 84.      98.      85.      86.0074]\n",
    " [ 84.     100.      77.      82.8583]\n",
    " [ 85.      93.      75.      81.6098]\n",
    " [ 85.      99.      69.      79.7614]\n",
    " [ 86.      95.      77.      83.0767]\n",
    " [ 86.     100.      85.      87.0245]\n",
    " [ 87.      97.      75.      82.8551]\n",
    " [ 87.      98.      89.      88.8794]\n",
    " [ 87.      99.      85.      87.3049]\n",
    " [ 87.      99.      81.      85.6162]\n",
    " [ 88.      99.      73.      82.6334]\n",
    " [ 89.      82.      37.      65.8904]\n",
    " [ 89.      82.      81.      84.4656]\n",
    " [ 89.      99.      79.      85.5608]\n",
    " [ 90.     100.      90.      90.7131]\n",
    " [ 91.      67.      84.      84.8096]\n",
    " [ 91.     100.      79.      86.4638]\n",
    " [ 92.      99.      85.      89.2771]\n",
    " [ 93.      97.      71.      83.5331]\n",
    " [ 94.      99.      89.      91.7547]\n",
    " [ 95.      98.      85.      90.3464]\n",
    " [ 95.      99.      69.      83.7059]\n",
    " [ 97.      80.      79.      86.5487]\n",
    " [ 97.      99.      92.      94.2045]\n",
    " [ 97.     100.      87.      92.2078]\n",
    " [ 98.     100.      81.      90.0693]\n",
    " [ 99.     100.     100.      98.4848]\n",
    " [100.      76.      90.      91.9194]\n",
    " [100.      94.      94.      95.6617]\n",
    " [100.     100.      94.      96.3463]]\n"
   ]
  }
 ],
 "metadata": {
  "kernelspec": {
   "display_name": "base",
   "language": "python",
   "name": "python3"
  },
  "language_info": {
   "codemirror_mode": {
    "name": "ipython",
    "version": 3
   },
   "file_extension": ".py",
   "mimetype": "text/x-python",
   "name": "python",
   "nbconvert_exporter": "python",
   "pygments_lexer": "ipython3",
   "version": "3.12.4"
  }
 },
 "nbformat": 4,
 "nbformat_minor": 2
}
