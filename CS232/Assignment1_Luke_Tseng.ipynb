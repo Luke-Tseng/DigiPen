{
 "cells": [
  {
   "cell_type": "raw",
   "metadata": {},
   "source": [
    "Assignment#1 Scoring:\n",
    "    - Each Exercise 10 points\n",
    "    _________________________\n",
    "    Total:          20 points"
   ]
  },
  {
   "cell_type": "markdown",
   "metadata": {},
   "source": [
    "#### Exercise 1.1:\n",
    "Write code to assign to variables and use the variables when printing:\n",
    "- assign 5 to x variable\n",
    "- assign 2 to y variable\n",
    "- print the product of the variables in this form: \"The result of 2 x 5 is 10!\"\n",
    "    - use variables when printing\n",
    "    - match the exact text to print (no space before \"!\")\n",
    "- assign \"apples\" to variable s\n",
    "- print \"5 apples + 2 apples = 7 apples\" (use variables)\n",
    "    - match the exact text to print"
   ]
  },
  {
   "cell_type": "code",
   "execution_count": null,
   "metadata": {},
   "outputs": [],
   "source": [
    "# Exercise 1.1 code:\n",
    "x = 5\n",
    "y = 2\n",
    "\n",
    "print(f\"The result of {y} x {x} is {y*x}!\")\n",
    "\n",
    "s = \"apples\"\n",
    "\n",
    "print(f\"{x} {s} + {y} {s} = {x+y} {s}\")\n"
   ]
  },
  {
   "cell_type": "markdown",
   "metadata": {},
   "source": [
    "#### Exercise 1.2:\n",
    "Write code (different than the ones in the class notebooks) and <u>intentionally</u> generate errors to receive:\n",
    "- TypeError\n",
    "- SyntaxError\n",
    "- NameError\n",
    "- ZeroDivisionError"
   ]
  },
  {
   "cell_type": "code",
   "execution_count": null,
   "metadata": {},
   "outputs": [],
   "source": [
    "# Exercise 1.2 code - TypeError:\n",
    "x = \"hello\"\n",
    "y = 1\n",
    "\n",
    "print(x+y)\n"
   ]
  },
  {
   "cell_type": "code",
   "execution_count": null,
   "metadata": {},
   "outputs": [],
   "source": [
    "# Exercise 1.2 code - SyntaxError:\n",
    "print(\"hello)\n"
   ]
  },
  {
   "cell_type": "code",
   "execution_count": null,
   "metadata": {},
   "outputs": [],
   "source": [
    "# Exercise 1.2 code - NameError:\n",
    "print(nameerror)\n"
   ]
  },
  {
   "cell_type": "code",
   "execution_count": null,
   "metadata": {},
   "outputs": [],
   "source": [
    "# Exercise 1.2 code - ZeroDivision:\n",
    "x = 100/0\n"
   ]
  }
 ],
 "metadata": {
  "kernelspec": {
   "display_name": "Python 3 (ipykernel)",
   "language": "python",
   "name": "python3"
  },
  "language_info": {
   "codemirror_mode": {
    "name": "ipython",
    "version": 3
   },
   "file_extension": ".py",
   "mimetype": "text/x-python",
   "name": "python",
   "nbconvert_exporter": "python",
   "pygments_lexer": "ipython3",
   "version": "3.12.4"
  }
 },
 "nbformat": 4,
 "nbformat_minor": 4
}
