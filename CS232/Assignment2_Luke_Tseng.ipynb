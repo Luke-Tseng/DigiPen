{
 "cells": [
  {
   "cell_type": "markdown",
   "metadata": {},
   "source": [
    "## Assignment#2"
   ]
  },
  {
   "cell_type": "raw",
   "metadata": {},
   "source": [
    "Scoring:\n",
    "    - Each Excercise:  10 points\n",
    "    ____________________________\n",
    "    Total:             40 points"
   ]
  },
  {
   "cell_type": "markdown",
   "metadata": {},
   "source": [
    "#### Exercise 2.0:\n",
    "Create a function:\n",
    "- takes two numbers (x and y) as arguments\n",
    "- prints x - y\n",
    "\n",
    "For example passing 3 and 5 will display:\n",
    "-2"
   ]
  },
  {
   "cell_type": "code",
   "execution_count": 3,
   "metadata": {},
   "outputs": [
    {
     "name": "stdout",
     "output_type": "stream",
     "text": [
      "-2\n"
     ]
    }
   ],
   "source": [
    "# Exercise 2.0 code:\n",
    "\n",
    "def subtract(x, y):\n",
    "    print(x-y)\n",
    "\n",
    "subtract(3,5)"
   ]
  },
  {
   "cell_type": "markdown",
   "metadata": {},
   "source": [
    "#### Exercise 2.1:\n",
    "Create a function:\n",
    "- takes three positive numbers (x2, x1 and c) as arguments\n",
    "- print a quadratic expression using the arguments as coefficients\n",
    "\n",
    "For example 3, 4 and 2:\n",
    "- 3x^2 + 4x + 2"
   ]
  },
  {
   "cell_type": "code",
   "execution_count": 5,
   "metadata": {},
   "outputs": [
    {
     "name": "stdout",
     "output_type": "stream",
     "text": [
      "3x^2 + 4x + 2\n"
     ]
    }
   ],
   "source": [
    "# Exercise 2.1 code:\n",
    "\n",
    "def quadratic(x2, x1, c):\n",
    "    print(f\"{x2}x^2 + {x1}x + {c}\")\n",
    "\n",
    "quadratic(3,4,2)"
   ]
  },
  {
   "cell_type": "markdown",
   "metadata": {},
   "source": [
    "#### Excercise 3.2:\n",
    "- Assign a positive whole number to x between 1 and 9999\n",
    "- **Use nested conditions** and print a statement in one line\n",
    "    - stating how many digits the number x has\n",
    "    - stating whether the number x is even or odd\n",
    "- Example: \"200 is a 3 digit even number\""
   ]
  },
  {
   "cell_type": "code",
   "execution_count": 4,
   "metadata": {},
   "outputs": [
    {
     "name": "stdout",
     "output_type": "stream",
     "text": [
      "200 is a 3 digit even number\n"
     ]
    }
   ],
   "source": [
    "# Excercise 3.2 code:\n",
    "\n",
    "x = 200\n",
    "\n",
    "if x % 2 == 0:\n",
    "    print(x, \"is a\", len(str(x)), \"digit even number\")\n",
    "else:\n",
    "    print(x, \"is a\", len(str(x)), \"digit odd number\")"
   ]
  },
  {
   "cell_type": "markdown",
   "metadata": {},
   "source": [
    "#### Excercise 4.1:\n",
    "Use loops to print below:"
   ]
  },
  {
   "cell_type": "raw",
   "metadata": {},
   "source": [
    "0 0 0 0 0 0 0 0 0 0 \n",
    "1 1 1 1 1 1 1 1 1 \n",
    "2 2 2 2 2 2 2 2 \n",
    "3 3 3 3 3 3 3 \n",
    "4 4 4 4 4 4 \n",
    "5 5 5 5 5 \n",
    "6 6 6 6 \n",
    "7 7 7 \n",
    "8 8 \n",
    "9 "
   ]
  },
  {
   "cell_type": "code",
   "execution_count": 6,
   "metadata": {},
   "outputs": [
    {
     "name": "stdout",
     "output_type": "stream",
     "text": [
      "0 0 0 0 0 0 0 0 0 0 \n",
      "1 1 1 1 1 1 1 1 1 \n",
      "2 2 2 2 2 2 2 2 \n",
      "3 3 3 3 3 3 3 \n",
      "4 4 4 4 4 4 \n",
      "5 5 5 5 5 \n",
      "6 6 6 6 \n",
      "7 7 7 \n",
      "8 8 \n",
      "9 \n"
     ]
    }
   ],
   "source": [
    "# Excercise 4.1 code:\n",
    "\n",
    "for x in range(0,10):\n",
    "    string = \"\"\n",
    "    for y in range(0,10-x):\n",
    "        string +=  f\"{x} \"\n",
    "    print(string)"
   ]
  }
 ],
 "metadata": {
  "kernelspec": {
   "display_name": "Python 3 (ipykernel)",
   "language": "python",
   "name": "python3"
  },
  "language_info": {
   "codemirror_mode": {
    "name": "ipython",
    "version": 3
   },
   "file_extension": ".py",
   "mimetype": "text/x-python",
   "name": "python",
   "nbconvert_exporter": "python",
   "pygments_lexer": "ipython3",
   "version": "3.12.4"
  }
 },
 "nbformat": 4,
 "nbformat_minor": 2
}
