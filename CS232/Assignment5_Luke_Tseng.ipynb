{
 "cells": [
  {
   "cell_type": "markdown",
   "metadata": {},
   "source": [
    "## Assignment 5\n"
   ]
  },
  {
   "cell_type": "code",
   "execution_count": 1,
   "metadata": {},
   "outputs": [],
   "source": [
    "import pandas as pd\n",
    "import numpy as np\n",
    "from matplotlib import pyplot as plt\n",
    "%matplotlib notebook"
   ]
  },
  {
   "cell_type": "markdown",
   "metadata": {},
   "source": [
    "#### Read csv files"
   ]
  },
  {
   "cell_type": "code",
   "execution_count": 2,
   "metadata": {},
   "outputs": [],
   "source": [
    "locations = pd.read_csv('locations.csv')\n",
    "ratings = pd.read_csv('ratings.csv')\n",
    "cuisines = pd.read_csv('cuisines.csv')"
   ]
  },
  {
   "cell_type": "markdown",
   "metadata": {},
   "source": [
    "#### Group Restuarants with Mean and Count"
   ]
  },
  {
   "cell_type": "code",
   "execution_count": 3,
   "metadata": {},
   "outputs": [],
   "source": [
    "restaurant_ratings = ratings.groupby('placeID').agg({'rating': ['mean', 'count']}).reset_index()\n",
    "restaurant_ratings.columns =['placeID','average_rating','ratings']"
   ]
  },
  {
   "cell_type": "markdown",
   "metadata": {},
   "source": [
    "#### Filter Restuarants with at least 10 ratings\n"
   ]
  },
  {
   "cell_type": "code",
   "execution_count": 4,
   "metadata": {},
   "outputs": [],
   "source": [
    "min_ratings = restaurant_ratings[restaurant_ratings['ratings'] >= 10]"
   ]
  },
  {
   "cell_type": "markdown",
   "metadata": {},
   "source": [
    "#### Sort ratings and get top 10 restaurants"
   ]
  },
  {
   "cell_type": "code",
   "execution_count": 5,
   "metadata": {},
   "outputs": [],
   "source": [
    "top_10 = min_ratings.sort_values(by='average_rating', ascending=False).head(10)"
   ]
  },
  {
   "cell_type": "markdown",
   "metadata": {},
   "source": [
    "#### Left join Top 10 restaurants with locations and then cuisines"
   ]
  },
  {
   "cell_type": "code",
   "execution_count": 6,
   "metadata": {},
   "outputs": [
    {
     "name": "stdout",
     "output_type": "stream",
     "text": [
      "   placeID                        name                        cuisine\n",
      "0   132723           Gordas de morales                      [Mexican]\n",
      "1   132754             Cabana Huasteca                      [Mexican]\n",
      "2   132768          Mariscos Tia Licha                       [Family]\n",
      "3   135025  El Rincon de San Francisco                      [Mexican]\n",
      "4   135028                 La Virreina                      [Mexican]\n",
      "5   135030    Preambulo Wifi Zone Cafe  [Cafe-Coffee_Shop, Cafeteria]\n",
      "6   135045     Restaurante la Gran Via                          [nan]\n",
      "7   135051       Restaurante Versalles                          [nan]\n",
      "8   135066          Restaurante Guerra                          [nan]\n",
      "9   135075        Mariscos El Pescador                      [Seafood]\n"
     ]
    }
   ],
   "source": [
    "top_10_restaurants = pd.merge(top_10, locations, on='placeID', how='left')\n",
    "top_10_cuisines = pd.merge(top_10_restaurants, cuisines, on='placeID', how='left')\n",
    "\n",
    "top_10_details = top_10_cuisines.groupby(['placeID', 'name'])['cuisine'].apply(list).reset_index()\n",
    "\n",
    "# Task 1: Find the top 10 best rated restaurants. Include their:\n",
    "# a. placeID\n",
    "# b. names\n",
    "# c. cuisine types\n",
    "print(top_10_details)"
   ]
  },
  {
   "cell_type": "markdown",
   "metadata": {},
   "source": [
    "#### Group cuisine types and sort by count to get most popular cuisine in top 10"
   ]
  },
  {
   "cell_type": "code",
   "execution_count": 7,
   "metadata": {},
   "outputs": [
    {
     "name": "stdout",
     "output_type": "stream",
     "text": [
      "        cuisine\n",
      "          count\n",
      "cuisine        \n",
      "Mexican       4\n"
     ]
    }
   ],
   "source": [
    "# Task 2: Identify the most popular cuisine type (in the Top 10 list)\n",
    "print(top_10_cuisines.groupby('cuisine').agg({'cuisine': ['count']}).sort_values(by=('cuisine', 'count'), ascending=False).head(1))"
   ]
  }
 ],
 "metadata": {
  "kernelspec": {
   "display_name": "base",
   "language": "python",
   "name": "python3"
  },
  "language_info": {
   "codemirror_mode": {
    "name": "ipython",
    "version": 3
   },
   "file_extension": ".py",
   "mimetype": "text/x-python",
   "name": "python",
   "nbconvert_exporter": "python",
   "pygments_lexer": "ipython3",
   "version": "3.12.4"
  }
 },
 "nbformat": 4,
 "nbformat_minor": 2
}
