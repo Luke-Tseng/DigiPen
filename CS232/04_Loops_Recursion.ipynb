{
 "cells": [
  {
   "cell_type": "markdown",
   "metadata": {},
   "source": [
    "#### References:\n",
    "    www.python.org"
   ]
  },
  {
   "cell_type": "markdown",
   "metadata": {},
   "source": [
    "#### Questions/feedback: petert@digipen.edu"
   ]
  },
  {
   "cell_type": "markdown",
   "metadata": {},
   "source": [
    "# Chapter04: Loops, recursion, ..."
   ]
  },
  {
   "cell_type": "markdown",
   "metadata": {},
   "source": [
    "# Loops and Recursion\n",
    "    - While\n",
    "    - For\n",
    "    - Recursion\n",
    "#### While Loop\n",
    "    Infinite Loop\n",
    "    break\n",
    "    Syntax\n",
    "    Usage: when we want to repeat something until certain condition is true\n",
    "#### Syntax:"
   ]
  },
  {
   "cell_type": "raw",
   "metadata": {},
   "source": [
    "while Boolean:\n",
    "    command(s)"
   ]
  },
  {
   "cell_type": "code",
   "execution_count": 2,
   "metadata": {},
   "outputs": [
    {
     "name": "stdout",
     "output_type": "stream",
     "text": [
      "5\n"
     ]
    }
   ],
   "source": [
    "# this would be an infinite loop without adding a break:\n",
    "while True:\n",
    "    print(5)\n",
    "    break"
   ]
  },
  {
   "cell_type": "markdown",
   "metadata": {},
   "source": [
    "#### Examples:"
   ]
  },
  {
   "cell_type": "code",
   "execution_count": 3,
   "metadata": {},
   "outputs": [],
   "source": [
    "mynumber = 16"
   ]
  },
  {
   "cell_type": "code",
   "execution_count": 4,
   "metadata": {},
   "outputs": [
    {
     "name": "stdout",
     "output_type": "stream",
     "text": [
      "16\n",
      "15\n",
      "14\n",
      "13\n",
      "12\n",
      "11\n",
      "10\n"
     ]
    }
   ],
   "source": [
    "while mynumber >= 10:\n",
    "    print(mynumber)\n",
    "    mynumber -= 1\n",
    "    #mynumber = mynumber - 1"
   ]
  },
  {
   "cell_type": "code",
   "execution_count": 5,
   "metadata": {},
   "outputs": [
    {
     "name": "stdout",
     "output_type": "stream",
     "text": [
      "12\n",
      "You have not entered a non-negative whole number, it's over!\n"
     ]
    }
   ],
   "source": [
    "# take input until it consist of digits only, breaks when condition does not evaluate to True\n",
    "while True:\n",
    "    mydigit = input(\"Enter a non-negative whole number: \")\n",
    "    if mydigit.isdigit():\n",
    "        print(mydigit)\n",
    "    else:\n",
    "        print(\"You have not entered a non-negative whole number, it's over!\")\n",
    "        break"
   ]
  },
  {
   "cell_type": "markdown",
   "metadata": {},
   "source": [
    "#### For Loop\n",
    "    break\n",
    "    Syntax\n",
    "    Usage: when we want to repeat something a fixed number of times\n",
    "#### Syntax:"
   ]
  },
  {
   "cell_type": "raw",
   "metadata": {},
   "source": [
    "for i in range(n):\n",
    "    commands\n",
    "    \n",
    "More generally:\n",
    "for value in collection:\n",
    "    commands"
   ]
  },
  {
   "cell_type": "markdown",
   "metadata": {},
   "source": [
    "#### Examples:"
   ]
  },
  {
   "cell_type": "code",
   "execution_count": 6,
   "metadata": {},
   "outputs": [
    {
     "data": {
      "text/plain": [
       "range(0, 4)"
      ]
     },
     "execution_count": 6,
     "metadata": {},
     "output_type": "execute_result"
    }
   ],
   "source": [
    "range(4)"
   ]
  },
  {
   "cell_type": "code",
   "execution_count": 7,
   "metadata": {},
   "outputs": [
    {
     "data": {
      "text/plain": [
       "4"
      ]
     },
     "execution_count": 7,
     "metadata": {},
     "output_type": "execute_result"
    }
   ],
   "source": [
    "len(range(4))"
   ]
  },
  {
   "cell_type": "code",
   "execution_count": 8,
   "metadata": {},
   "outputs": [
    {
     "data": {
      "text/plain": [
       "range"
      ]
     },
     "execution_count": 8,
     "metadata": {},
     "output_type": "execute_result"
    }
   ],
   "source": [
    "type(range(4))"
   ]
  },
  {
   "cell_type": "code",
   "execution_count": null,
   "metadata": {},
   "outputs": [],
   "source": [
    "n = 4\n",
    "for i in range(n):\n",
    "    print(i)"
   ]
  },
  {
   "cell_type": "code",
   "execution_count": null,
   "metadata": {},
   "outputs": [],
   "source": [
    "list(range(4))"
   ]
  },
  {
   "cell_type": "code",
   "execution_count": 6,
   "metadata": {},
   "outputs": [
    {
     "name": "stdout",
     "output_type": "stream",
     "text": [
      "\u001b[1;31mInit signature:\u001b[0m \u001b[0mrange\u001b[0m\u001b[1;33m(\u001b[0m\u001b[0mself\u001b[0m\u001b[1;33m,\u001b[0m \u001b[1;33m/\u001b[0m\u001b[1;33m,\u001b[0m \u001b[1;33m*\u001b[0m\u001b[0margs\u001b[0m\u001b[1;33m,\u001b[0m \u001b[1;33m**\u001b[0m\u001b[0mkwargs\u001b[0m\u001b[1;33m)\u001b[0m\u001b[1;33m\u001b[0m\u001b[1;33m\u001b[0m\u001b[0m\n",
      "\u001b[1;31mDocstring:\u001b[0m     \n",
      "range(stop) -> range object\n",
      "range(start, stop[, step]) -> range object\n",
      "\n",
      "Return an object that produces a sequence of integers from start (inclusive)\n",
      "to stop (exclusive) by step.  range(i, j) produces i, i+1, i+2, ..., j-1.\n",
      "start defaults to 0, and stop is omitted!  range(4) produces 0, 1, 2, 3.\n",
      "These are exactly the valid indices for a list of 4 elements.\n",
      "When step is given, it specifies the increment (or decrement).\n",
      "\u001b[1;31mType:\u001b[0m           type\n",
      "\u001b[1;31mSubclasses:\u001b[0m     "
     ]
    }
   ],
   "source": [
    "range?"
   ]
  },
  {
   "cell_type": "code",
   "execution_count": 5,
   "metadata": {},
   "outputs": [
    {
     "name": "stdout",
     "output_type": "stream",
     "text": [
      "2\n",
      "3\n",
      "4\n"
     ]
    }
   ],
   "source": [
    "for i in range(2, 5):\n",
    "    print(i)"
   ]
  },
  {
   "cell_type": "code",
   "execution_count": 4,
   "metadata": {},
   "outputs": [
    {
     "name": "stdout",
     "output_type": "stream",
     "text": [
      "D\n",
      "i\n",
      "g\n",
      "i\n",
      "P\n",
      "e\n",
      "n\n"
     ]
    }
   ],
   "source": [
    "for i in \"DigiPen\":\n",
    "    print(i)"
   ]
  },
  {
   "cell_type": "code",
   "execution_count": 1,
   "metadata": {},
   "outputs": [
    {
     "name": "stdout",
     "output_type": "stream",
     "text": [
      "apple\n",
      "pear\n",
      "plum\n"
     ]
    }
   ],
   "source": [
    "for list_item in ['apple', 'pear', 'plum']:\n",
    "    print(list_item)"
   ]
  },
  {
   "cell_type": "code",
   "execution_count": 2,
   "metadata": {},
   "outputs": [],
   "source": [
    "dict_example = {1: 'apple', 2: 'plum', 3: 'pear'}"
   ]
  },
  {
   "cell_type": "code",
   "execution_count": 12,
   "metadata": {},
   "outputs": [
    {
     "data": {
      "text/plain": [
       "dict_keys([1, 2, 3])"
      ]
     },
     "execution_count": 12,
     "metadata": {},
     "output_type": "execute_result"
    }
   ],
   "source": [
    "dict_example.keys()"
   ]
  },
  {
   "cell_type": "code",
   "execution_count": 13,
   "metadata": {},
   "outputs": [
    {
     "data": {
      "text/plain": [
       "dict_values(['apple', 'plum', 'pear'])"
      ]
     },
     "execution_count": 13,
     "metadata": {},
     "output_type": "execute_result"
    }
   ],
   "source": [
    "dict_example.values()"
   ]
  },
  {
   "cell_type": "code",
   "execution_count": 14,
   "metadata": {},
   "outputs": [
    {
     "data": {
      "text/plain": [
       "'pear'"
      ]
     },
     "execution_count": 14,
     "metadata": {},
     "output_type": "execute_result"
    }
   ],
   "source": [
    "dict_example[3]"
   ]
  },
  {
   "cell_type": "code",
   "execution_count": 15,
   "metadata": {},
   "outputs": [
    {
     "name": "stdout",
     "output_type": "stream",
     "text": [
      "apple\n",
      "plum\n",
      "pear\n"
     ]
    }
   ],
   "source": [
    "for dict_key in dict_example.keys():\n",
    "    print(dict_example[dict_key])"
   ]
  },
  {
   "cell_type": "code",
   "execution_count": 16,
   "metadata": {},
   "outputs": [
    {
     "name": "stdout",
     "output_type": "stream",
     "text": [
      "apple\n",
      "plum\n",
      "pear\n",
      "plum\n"
     ]
    }
   ],
   "source": [
    "dict_example = {4: 'apple', 2: 'plum', 3: 'pear', 1: 'plum'}\n",
    "\n",
    "for dict_key in dict_example.keys():\n",
    "    print(dict_example[dict_key])"
   ]
  },
  {
   "cell_type": "markdown",
   "metadata": {},
   "source": [
    "#### Example\n",
    "Gregory-Leibniz series:\n",
    "π = (4/1) - (4/3) + (4/5) - (4/7) + (4/9) - (4/11) + (4/13) - (4/15) + ..."
   ]
  },
  {
   "cell_type": "code",
   "execution_count": null,
   "metadata": {},
   "outputs": [],
   "source": [
    "mypi = 0\n",
    "myrange = 1000000\n",
    "for i in range(10 * myrange):\n",
    "    if (i % 2 == 0):\n",
    "        mypi += 4*(1/(2*i+1))\n",
    "    else:\n",
    "        mypi += -4*(1/(2*i+1))\n",
    "print(mypi)"
   ]
  },
  {
   "cell_type": "code",
   "execution_count": null,
   "metadata": {},
   "outputs": [],
   "source": [
    "mypi = 0\n",
    "myrange = 100000\n",
    "for i in range(10 * myrange):\n",
    "    if (i % 2 == 0):\n",
    "        #print(4*(1/(2*i+1)))\n",
    "        mypi += 4*(1/(2*i+1))\n",
    "    else:\n",
    "        #print(-4*(1/(2*i+1)))\n",
    "        mypi += -4*(1/(2*i+1))\n",
    "# example for inefficient but working conditon\n",
    "#    if (int(str(i)[0]) == 1):\n",
    "#        if i - (10 ** (len(str(i))-1)) == 0:\n",
    "#            print(mypi)\n",
    "            \n",
    "print(mypi)"
   ]
  },
  {
   "cell_type": "markdown",
   "metadata": {},
   "source": [
    "The commented section at the end showcases type casting back and forth between integer and string types. Printing interim values at every power of ten.\n",
    "\n",
    "Note that such calculation would be done using numpy as opposed to the above example."
   ]
  },
  {
   "cell_type": "markdown",
   "metadata": {},
   "source": [
    "#### Recursion\n",
    "    Recursive function: a function being defined is applied within its own definition.\n",
    "#### Example:\n",
    "Fibonacci series up to n (from https://www.python.org/)\n",
    "\n",
    "Recursive: F₀=0, F₁=1, and Fₙ=Fₙ₋₁+Fₙ₋₂, for n > 1\n",
    "\n",
    "    n      0 1 2 3 4 5 6  7  8  9 10 11  12 ...\n",
    "    F(n)   0 1 1 2 3 5 8 13 21 34 55 89 144 ..."
   ]
  },
  {
   "cell_type": "code",
   "execution_count": null,
   "metadata": {
    "scrolled": true
   },
   "outputs": [],
   "source": [
    "# Fibonacci series up to m\n",
    "def fib(m):\n",
    "    a, b = 0, 1\n",
    "    while a < m:\n",
    "        print(a, end = ' ')\n",
    "        a, b = b, a + b\n",
    "    #print()\n",
    "fib(1000)"
   ]
  },
  {
   "cell_type": "code",
   "execution_count": 38,
   "metadata": {},
   "outputs": [],
   "source": [
    "def fib2(n):\n",
    "    if n == 0:\n",
    "        return 0\n",
    "    elif n == 1:\n",
    "        return 1\n",
    "    else:\n",
    "        return fib2(n-1) + fib2(n-2)"
   ]
  },
  {
   "cell_type": "code",
   "execution_count": 39,
   "metadata": {},
   "outputs": [
    {
     "data": {
      "text/plain": [
       "610"
      ]
     },
     "execution_count": 39,
     "metadata": {},
     "output_type": "execute_result"
    }
   ],
   "source": [
    "fib2(15)"
   ]
  },
  {
   "cell_type": "code",
   "execution_count": null,
   "metadata": {},
   "outputs": [],
   "source": [
    "for i in range(17):\n",
    "    print(fib2(i), end=' ')"
   ]
  },
  {
   "cell_type": "markdown",
   "metadata": {},
   "source": [
    "Notice that the definition is recursive but the function is iterative. The function could be implemented in a recursive way\n",
    "\n",
    "Another example shows a recursive function implementation:"
   ]
  },
  {
   "cell_type": "markdown",
   "metadata": {},
   "source": [
    "#### Example:\n",
    "Factorial of n: n!\n",
    "\n",
    "Basic def: n! = n * (n-1) * ... * 3 * 2 * 1\n",
    "\n",
    "Recursive: n! = n * (n-1)!\n",
    "\n",
    "    n     0 1   2       3         4            5     ...\n",
    "    n!    1 1 1*2=2 1*2*3=6 1*2*3*4=24 1*2*3*4*5=120 ..."
   ]
  },
  {
   "cell_type": "code",
   "execution_count": null,
   "metadata": {},
   "outputs": [],
   "source": [
    "def factorial(n):\n",
    "    if n == 0:\n",
    "        return 1\n",
    "    else:\n",
    "        return n * factorial(n - 1)"
   ]
  },
  {
   "cell_type": "raw",
   "metadata": {},
   "source": [
    "Example:\n",
    "\n",
    "4 * fact(3) = 4 * 3 * fact(2) = ... = 24"
   ]
  },
  {
   "cell_type": "code",
   "execution_count": null,
   "metadata": {},
   "outputs": [],
   "source": [
    "print(factorial(0))\n",
    "print(factorial(4))\n",
    "print(factorial(5))\n",
    "print(factorial(10))\n",
    "print(factorial(100))"
   ]
  },
  {
   "cell_type": "markdown",
   "metadata": {},
   "source": [
    "#### Excercise 4.1:\n",
    "Use loops to print below:"
   ]
  },
  {
   "cell_type": "raw",
   "metadata": {},
   "source": [
    "0 0 0 0 0 0 0 0 0 0 \n",
    "1 1 1 1 1 1 1 1 1 \n",
    "2 2 2 2 2 2 2 2 \n",
    "3 3 3 3 3 3 3 \n",
    "4 4 4 4 4 4 \n",
    "5 5 5 5 5 \n",
    "6 6 6 6 \n",
    "7 7 7 \n",
    "8 8 \n",
    "9 "
   ]
  },
  {
   "cell_type": "code",
   "execution_count": 3,
   "metadata": {},
   "outputs": [
    {
     "name": "stdout",
     "output_type": "stream",
     "text": [
      "0 0 0 0 0 0 0 0 0 0 \n",
      "1 1 1 1 1 1 1 1 1 \n",
      "2 2 2 2 2 2 2 2 \n",
      "3 3 3 3 3 3 3 \n",
      "4 4 4 4 4 4 \n",
      "5 5 5 5 5 \n",
      "6 6 6 6 \n",
      "7 7 7 \n",
      "8 8 \n",
      "9 \n"
     ]
    }
   ],
   "source": [
    "# Excercise 4.1 code:\n",
    "\n",
    "for x in range(10):\n",
    "    string = \"\"\n",
    "    for y in range(10-x):\n",
    "        string +=  f\"{x} \"\n",
    "    print(string)"
   ]
  },
  {
   "cell_type": "markdown",
   "metadata": {},
   "source": [
    "#### Excercise 4.2:\n",
    "A variation to the Fibonacci series up to m\n",
    "\n",
    "Recursive: F<sub>1</sub>=1, F<sub>2</sub>=1, F<sub>3</sub>=1, and F<sub>n</sub>=F<sub>n-1</sub>+F<sub>n-2</sub>+F<sub>n-3</sub>, for n > 3\n",
    "\n",
    "    n      1 2 3 4 5 6  7  8  9  10  11  12 ...\n",
    "    F3(n)  1 1 1 3 5 9 17 31 57 105 193 355 ..."
   ]
  },
  {
   "cell_type": "code",
   "execution_count": 48,
   "metadata": {},
   "outputs": [
    {
     "data": {
      "text/plain": [
       "355"
      ]
     },
     "execution_count": 48,
     "metadata": {},
     "output_type": "execute_result"
    }
   ],
   "source": [
    "# Excercise 4.2 code:\n",
    "\n",
    "def fib3(n):\n",
    "    if n == 0:\n",
    "        return 0\n",
    "    elif n == 1 or n == 2 or n == 3:\n",
    "        return 1\n",
    "    else:\n",
    "        return fib3(n-1) + fib3(n-2) + fib3(n-3) \n",
    "\n",
    "fib3(12)"
   ]
  }
 ],
 "metadata": {
  "kernelspec": {
   "display_name": "Python 3 (ipykernel)",
   "language": "python",
   "name": "python3"
  },
  "language_info": {
   "codemirror_mode": {
    "name": "ipython",
    "version": 3
   },
   "file_extension": ".py",
   "mimetype": "text/x-python",
   "name": "python",
   "nbconvert_exporter": "python",
   "pygments_lexer": "ipython3",
   "version": "3.12.6"
  }
 },
 "nbformat": 4,
 "nbformat_minor": 2
}
