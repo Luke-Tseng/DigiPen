{
 "cells": [
  {
   "cell_type": "markdown",
   "metadata": {},
   "source": [
    "#### References:\n",
    "    https://console.cloud.google.com\n",
    "    https://console.cloud.google.com/google/maps-apis\n",
    "    https://console.cloud.google.com/apis/credentials"
   ]
  },
  {
   "cell_type": "markdown",
   "metadata": {},
   "source": [
    "## Maps\n",
    "#### working with google maps, getting API Key\n",
    "- Register (free + free credit but requires Credit card. No unwanted charges should be applied.)\n",
    "    - https://console.cloud.google.com/ \n",
    "- Choose 'APIs & Services' on the left pane then choose 'Library'\n",
    "- Filter by 'Maps' on the left pane\n",
    "- Choose services to be used:\n",
    "    - Maps JavaScript API will be needed\n",
    "- Create API key(s) under Credentials\n",
    "    - https://console.cloud.google.com/apis/credentials\n",
    "    - may need to create a project\n",
    "- Choose 'Credential' on the left pane\n",
    "    - create API key\n",
    "    - choose option which does not require approval\n",
    "    - Restrict and Secure API"
   ]
  },
  {
   "cell_type": "markdown",
   "metadata": {},
   "source": [
    "Install gmaps through the Notebook using \"!\"\n",
    "\n",
    "Or run the same in Anaconda console without \"!\""
   ]
  },
  {
   "cell_type": "code",
   "execution_count": null,
   "metadata": {},
   "outputs": [],
   "source": [
    "!pip install gmaps"
   ]
  },
  {
   "cell_type": "markdown",
   "metadata": {},
   "source": [
    "Enable extensions to be able to display gmaps properly:\n",
    "\n",
    "Or run the same in Anaconda Prompt without \"!\"\n",
    "\n",
    "In case of issues:\n",
    "    - Try running the same in Anaconda Prompt (without \"!\")\n",
    "    - Start Console and Jupyter Notebook using Run as Administrator"
   ]
  },
  {
   "cell_type": "code",
   "execution_count": null,
   "metadata": {},
   "outputs": [],
   "source": [
    "!jupyter nbextension enable --py --sys-prefix widgetsnbextension\n",
    "!jupyter nbextension enable --py --sys-prefix gmaps"
   ]
  },
  {
   "cell_type": "markdown",
   "metadata": {},
   "source": [
    "Import gmaps and sample datasets:"
   ]
  },
  {
   "cell_type": "code",
   "execution_count": 1,
   "metadata": {},
   "outputs": [],
   "source": [
    "import gmaps\n",
    "import gmaps.datasets"
   ]
  },
  {
   "cell_type": "markdown",
   "metadata": {},
   "source": [
    "Specify an API key and display the default figure:"
   ]
  },
  {
   "cell_type": "code",
   "execution_count": null,
   "metadata": {},
   "outputs": [],
   "source": [
    "API_KEY = 'Your API Key'"
   ]
  },
  {
   "cell_type": "markdown",
   "metadata": {},
   "source": [
    "Once you have it you can store it in a file and hide it being displayed in the notebook:"
   ]
  },
  {
   "cell_type": "code",
   "execution_count": 2,
   "metadata": {},
   "outputs": [],
   "source": [
    "with open('api.txt') as file:\n",
    "    API_KEY = file.readline()\n",
    "    file.close"
   ]
  },
  {
   "cell_type": "markdown",
   "metadata": {},
   "source": [
    "Configure gmaps for usage with your API Key\n",
    "\n",
    "Create and display a figure object using your Key:"
   ]
  },
  {
   "cell_type": "code",
   "execution_count": 3,
   "metadata": {
    "scrolled": false
   },
   "outputs": [
    {
     "data": {
      "application/vnd.jupyter.widget-view+json": {
       "model_id": "43b86be8d9814c24a5d57a6594748f57",
       "version_major": 2,
       "version_minor": 0
      },
      "text/plain": [
       "Figure(layout=FigureLayout(height='420px'))"
      ]
     },
     "metadata": {},
     "output_type": "display_data"
    }
   ],
   "source": [
    "gmaps.configure(api_key=API_KEY)\n",
    "fig = gmaps.figure()\n",
    "fig"
   ]
  },
  {
   "cell_type": "code",
   "execution_count": null,
   "metadata": {},
   "outputs": [],
   "source": []
  }
 ],
 "metadata": {
  "kernelspec": {
   "display_name": "Python 3 (ipykernel)",
   "language": "python",
   "name": "python3"
  },
  "language_info": {
   "codemirror_mode": {
    "name": "ipython",
    "version": 3
   },
   "file_extension": ".py",
   "mimetype": "text/x-python",
   "name": "python",
   "nbconvert_exporter": "python",
   "pygments_lexer": "ipython3",
   "version": "3.8.16"
  }
 },
 "nbformat": 4,
 "nbformat_minor": 2
}
