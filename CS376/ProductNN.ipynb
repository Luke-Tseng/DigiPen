{
  "cells": [
    {
      "cell_type": "markdown",
      "metadata": {
        "id": "ORq8IIllzPNn"
      },
      "source": [
        "**Training a neural network to calculate a product using tensorflow**\n",
        "\n",
        "First we import numpy and tensorflow"
      ]
    },
    {
      "cell_type": "code",
      "execution_count": 1,
      "metadata": {
        "id": "-1MFHZIlxDhl"
      },
      "outputs": [],
      "source": [
        "import numpy as np\n",
        "import tensorflow as tf\n",
        "from tensorflow import keras\n",
        "from tensorflow.keras import layers"
      ]
    },
    {
      "cell_type": "markdown",
      "metadata": {
        "id": "tnBDQ_4qQMDc"
      },
      "source": [
        "Create training data randomly generated for demonstration purposes all values in [0,1] with uniform distribution"
      ]
    },
    {
      "cell_type": "code",
      "execution_count": 2,
      "metadata": {
        "id": "CHKXVZchPrz1"
      },
      "outputs": [],
      "source": [
        "\n",
        "def create_data(n_observations):\n",
        "    train_data = np.random.rand(2*n_observations).reshape((n_observations, 2))\n",
        "    label_data = train_data[:,0] * train_data[:,1]\n",
        "    return train_data, label_data\n"
      ]
    },
    {
      "cell_type": "code",
      "execution_count": 3,
      "metadata": {
        "colab": {
          "base_uri": "https://localhost:8080/"
        },
        "id": "9ngg6xpawYi0",
        "outputId": "9872ae24-34a7-410b-f6e2-2dd4ad7679c5"
      },
      "outputs": [
        {
          "name": "stdout",
          "output_type": "stream",
          "text": [
            "[[0.00683    0.3019028 ]\n",
            " [0.13802781 0.62123413]\n",
            " [0.19935362 0.11260997]\n",
            " ...\n",
            " [0.16917876 0.99543633]\n",
            " [0.83857375 0.73669582]\n",
            " [0.68785076 0.91287136]]\n",
            "[0.002062   0.08574759 0.0224492  ... 0.16840668 0.61777378 0.62791926]\n"
          ]
        }
      ],
      "source": [
        "X, y = create_data(10000)\n",
        "\n",
        "print(X)\n",
        "print(y)\n"
      ]
    },
    {
      "cell_type": "markdown",
      "metadata": {
        "id": "x6OFi_lOQn05"
      },
      "source": [
        "**Creating the model**\n",
        "\n",
        "Input has a shape of 2 (pair of values)\n",
        "\n",
        "3 layers of neurons\n",
        "\n",
        "2 dense layers with 16 neurons each and relu activation function\n",
        "\n",
        "last dense layer for an output of a single numerical value linear activation"
      ]
    },
    {
      "cell_type": "code",
      "execution_count": 4,
      "metadata": {
        "colab": {
          "base_uri": "https://localhost:8080/",
          "height": 238
        },
        "id": "qDe4fm2Dw3AH",
        "outputId": "05d7ffcb-8af3-4a48-a910-338356f06fd9"
      },
      "outputs": [
        {
          "name": "stdout",
          "output_type": "stream",
          "text": [
            "Model: \"sequential\"\n",
            "_________________________________________________________________\n",
            " Layer (type)                Output Shape              Param #   \n",
            "=================================================================\n",
            " dense (Dense)               (None, 16)                48        \n",
            "                                                                 \n",
            " dense_1 (Dense)             (None, 16)                272       \n",
            "                                                                 \n",
            " dense_2 (Dense)             (None, 1)                 17        \n",
            "                                                                 \n",
            "=================================================================\n",
            "Total params: 337\n",
            "Trainable params: 337\n",
            "Non-trainable params: 0\n",
            "_________________________________________________________________\n"
          ]
        }
      ],
      "source": [
        "model = keras.Sequential(\n",
        "    [\n",
        "        keras.Input(shape=(2,)),\n",
        "        layers.Dense(16, activation=\"relu\"),\n",
        "        layers.Dense(16, activation=\"relu\"),\n",
        "        layers.Dense(1, activation=\"linear\"),\n",
        "    ]\n",
        ")\n",
        "\n",
        "model.summary()"
      ]
    },
    {
      "cell_type": "markdown",
      "metadata": {
        "id": "Ane88agFRKQ_"
      },
      "source": [
        "Compiling the model will set up optimizer, loss, etc.\n",
        "Training is done in batches. We use 10 epochs of training"
      ]
    },
    {
      "cell_type": "code",
      "execution_count": 5,
      "metadata": {
        "colab": {
          "base_uri": "https://localhost:8080/"
        },
        "id": "otfWicimw7Lt",
        "outputId": "a8e7f5d2-fdb0-4833-8bc7-a2c286167413"
      },
      "outputs": [
        {
          "name": "stdout",
          "output_type": "stream",
          "text": [
            "Epoch 1/10\n",
            "1000/1000 [==============================] - 2s 1ms/step - loss: 0.0038\n",
            "Epoch 2/10\n",
            "1000/1000 [==============================] - 1s 1ms/step - loss: 7.9800e-05\n",
            "Epoch 3/10\n",
            "1000/1000 [==============================] - 1s 1ms/step - loss: 5.4843e-05\n",
            "Epoch 4/10\n",
            "1000/1000 [==============================] - 1s 1ms/step - loss: 5.0251e-05\n",
            "Epoch 5/10\n",
            "1000/1000 [==============================] - 1s 1ms/step - loss: 4.6153e-05\n",
            "Epoch 6/10\n",
            "1000/1000 [==============================] - 2s 2ms/step - loss: 4.1221e-05\n",
            "Epoch 7/10\n",
            "1000/1000 [==============================] - 1s 1ms/step - loss: 4.1845e-05\n",
            "Epoch 8/10\n",
            "1000/1000 [==============================] - 1s 1ms/step - loss: 4.2097e-05\n",
            "Epoch 9/10\n",
            "1000/1000 [==============================] - 1s 1ms/step - loss: 3.6963e-05\n",
            "Epoch 10/10\n",
            "1000/1000 [==============================] - 1s 1ms/step - loss: 3.6503e-05\n"
          ]
        },
        {
          "data": {
            "text/plain": [
              "<keras.callbacks.History at 0x2907a0636d0>"
            ]
          },
          "execution_count": 5,
          "metadata": {},
          "output_type": "execute_result"
        }
      ],
      "source": [
        "model.compile(optimizer='Adam', loss='mean_squared_error')\n",
        "model.fit(X, y, epochs=10, batch_size=10)\n",
        "\n",
        "\n"
      ]
    },
    {
      "cell_type": "markdown",
      "metadata": {
        "id": "s2vqa4iCRet3"
      },
      "source": [
        "We create a small test dataset to test the output of our model. Compare results with test_y target values"
      ]
    },
    {
      "cell_type": "code",
      "execution_count": 6,
      "metadata": {
        "colab": {
          "base_uri": "https://localhost:8080/"
        },
        "id": "SwUxQJmA2Qbg",
        "outputId": "be73bef5-6ccf-4f09-9755-7cf32d1cad69"
      },
      "outputs": [
        {
          "name": "stdout",
          "output_type": "stream",
          "text": [
            "1/1 [==============================] - 0s 82ms/step\n",
            "[[0.32579174 0.70233839]\n",
            " [0.16584066 0.3217316 ]\n",
            " [0.34054538 0.51934199]\n",
            " [0.43383514 0.97911614]\n",
            " [0.33722419 0.20798147]\n",
            " [0.31520013 0.78826636]\n",
            " [0.7613009  0.23077881]\n",
            " [0.66718348 0.61126601]\n",
            " [0.39897423 0.78704345]\n",
            " [0.79037488 0.98791688]]\n",
            "[[0.2314817 ]\n",
            " [0.0463917 ]\n",
            " [0.18347321]\n",
            " [0.4280885 ]\n",
            " [0.06298067]\n",
            " [0.25908852]\n",
            " [0.17708649]\n",
            " [0.41416734]\n",
            " [0.32042956]\n",
            " [0.7800599 ]]\n",
            "[0.22881605 0.05335618 0.17685951 0.42477498 0.07013638 0.24846166\n",
            " 0.17569211 0.40782659 0.31401005 0.78082468]\n"
          ]
        }
      ],
      "source": [
        "test_data, test_y = create_data(10)\n",
        "results = model.predict(test_data)\n",
        "\n",
        "print(test_data)\n",
        "print(results)\n",
        "print(test_y)"
      ]
    },
    {
      "cell_type": "code",
      "execution_count": null,
      "metadata": {
        "id": "BB1H79pR2QNp"
      },
      "outputs": [],
      "source": []
    }
  ],
  "metadata": {
    "colab": {
      "provenance": []
    },
    "kernelspec": {
      "display_name": "tensorflow_keras",
      "language": "python",
      "name": "python3"
    },
    "language_info": {
      "codemirror_mode": {
        "name": "ipython",
        "version": 3
      },
      "file_extension": ".py",
      "mimetype": "text/x-python",
      "name": "python",
      "nbconvert_exporter": "python",
      "pygments_lexer": "ipython3",
      "version": "3.10.13"
    }
  },
  "nbformat": 4,
  "nbformat_minor": 0
}
